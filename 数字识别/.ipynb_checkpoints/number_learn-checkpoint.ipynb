{
 "cells": [
  {
   "cell_type": "code",
   "execution_count": 1,
   "metadata": {
    "collapsed": true
   },
   "outputs": [],
   "source": [
    "''' import the required lib '''\n",
    "from PIL import Image\n",
    "from dealImage import ImageDealer\n",
    "from sklearn.neighbors import KNeighborsClassifier"
   ]
  },
  {
   "cell_type": "code",
   "execution_count": 2,
   "metadata": {
    "collapsed": true
   },
   "outputs": [],
   "source": [
    "''' open the result and fit it to 1_arr '''\n",
    "res = open(\"./datas/res.txt\")\n",
    "res = res.readlines()\n",
    "res = [i.strip().split(\" \") for i in res]\n",
    "y = []\n",
    "for i in res:\n",
    "    for j in i:\n",
    "        y.append(j)"
   ]
  },
  {
   "cell_type": "code",
   "execution_count": 4,
   "metadata": {
    "collapsed": false
   },
   "outputs": [],
   "source": [
    "''' change the pic to 1_arr '''\n",
    "X = []\n",
    "path = \"./datas/{}.bmp\"\n",
    "for i in range(1, 41):\n",
    "    for j in range(1, 7):\n",
    "        img = Image.open(path.format(str(i)+\"_\"+str(j)))\n",
    "        img = ImageDealer(img)\n",
    "        binary = img.toTwo()\n",
    "        binary_1_arr = []\n",
    "        for t in binary:\n",
    "            for z in t:\n",
    "                binary_1_arr.append(z)\n",
    "        X.append(binary_1_arr)"
   ]
  },
  {
   "cell_type": "code",
   "execution_count": 6,
   "metadata": {
    "collapsed": false
   },
   "outputs": [
    {
     "data": {
      "text/plain": [
       "KNeighborsClassifier(algorithm='auto', leaf_size=30, metric='minkowski',\n",
       "           metric_params=None, n_jobs=1, n_neighbors=3, p=2,\n",
       "           weights='uniform')"
      ]
     },
     "execution_count": 6,
     "metadata": {},
     "output_type": "execute_result"
    }
   ],
   "source": [
    "''' training it '''\n",
    "neigh = KNeighborsClassifier(n_neighbors=3)\n",
    "neigh.fit(X, y)"
   ]
  },
  {
   "cell_type": "code",
   "execution_count": 11,
   "metadata": {
    "collapsed": false
   },
   "outputs": [
    {
     "name": "stdout",
     "output_type": "stream",
     "text": [
      "0.4361242809229774\n"
     ]
    }
   ],
   "source": [
    "''' test it '''\n",
    "r = neigh.predict(X)\n",
    "j = 0\n",
    "for i in range(0, len(r)):\n",
    "    if r[i] == y[i]:\n",
    "        j = j + 1\n",
    "print ((j/240)**6)"
   ]
  },
  {
   "cell_type": "code",
   "execution_count": 7,
   "metadata": {
    "collapsed": false
   },
   "outputs": [
    {
     "name": "stdout",
     "output_type": "stream",
     "text": [
      "['0']\n"
     ]
    }
   ],
   "source": [
    "img = Image.open(\"./datas/3_6.bmp\")\n",
    "a = ImageDealer(img)\n",
    "d = a.toTwo()\n",
    "c = []\n",
    "for t in d:\n",
    "    for z in t:\n",
    "        c.append(z)\n",
    "print(neigh.predict([c]))"
   ]
  }
 ],
 "metadata": {
  "kernelspec": {
   "display_name": "Python 3",
   "language": "python",
   "name": "python3"
  },
  "language_info": {
   "codemirror_mode": {
    "name": "ipython",
    "version": 3
   },
   "file_extension": ".py",
   "mimetype": "text/x-python",
   "name": "python",
   "nbconvert_exporter": "python",
   "pygments_lexer": "ipython3",
   "version": "3.6.0"
  }
 },
 "nbformat": 4,
 "nbformat_minor": 2
}
