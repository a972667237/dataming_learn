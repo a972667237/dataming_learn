{
 "cells": [
  {
   "cell_type": "code",
   "execution_count": 28,
   "metadata": {
    "collapsed": true
   },
   "outputs": [],
   "source": [
    "import apriori"
   ]
  },
  {
   "cell_type": "code",
   "execution_count": 29,
   "metadata": {
    "collapsed": true
   },
   "outputs": [],
   "source": [
    "mushDatSet = [line.strip().split(',') for line in open('agaricus-lepiota_new.data').readlines()]"
   ]
  },
  {
   "cell_type": "code",
   "execution_count": 30,
   "metadata": {
    "collapsed": true
   },
   "outputs": [],
   "source": [
    "minSupport = 0.4\n",
    "L, suppData = apriori.apriori(mushDatSet, minSupport = minSupport)"
   ]
  },
  {
   "cell_type": "code",
   "execution_count": 31,
   "metadata": {
    "collapsed": false
   },
   "outputs": [
    {
     "name": "stdout",
     "output_type": "stream",
     "text": [
      "When set minSupport as 0.4\n",
      "There are\n",
      "21 itemset have 1 items\n",
      "97 itemset have 2 items\n",
      "185 itemset have 3 items\n",
      "170 itemset have 4 items\n",
      "76 itemset have 5 items\n",
      "15 itemset have 6 items\n",
      "1 itemset have 7 items\n"
     ]
    }
   ],
   "source": [
    "print 'When set minSupport as', minSupport\n",
    "print 'There are'\n",
    "for alist in L:\n",
    "    if len(alist) > 0:\n",
    "        print len(alist), 'itemset', 'have', len(alist[0]), 'items'"
   ]
  },
  {
   "cell_type": "code",
   "execution_count": 32,
   "metadata": {
    "collapsed": false
   },
   "outputs": [],
   "source": [
    "have_0p_set = []\n",
    "for itemset_list in L:\n",
    "    for itemset in itemset_list:\n",
    "        if itemset.intersection(['0p']): have_0p_set.append(itemset)"
   ]
  },
  {
   "cell_type": "code",
   "execution_count": 33,
   "metadata": {
    "collapsed": false
   },
   "outputs": [
    {
     "name": "stdout",
     "output_type": "stream",
     "text": [
      "frozenset(['0p'])\n",
      "frozenset(['0p', '6f'])\n",
      "frozenset(['17w', '0p'])\n",
      "frozenset(['0p', '16p'])\n",
      "frozenset(['0p', '18o'])\n",
      "frozenset(['0p', '7c'])\n",
      "frozenset(['4f', '0p'])\n",
      "frozenset(['0p', '7c', '18o'])\n",
      "frozenset(['17w', '0p', '6f'])\n",
      "frozenset(['17w', '0p', '18o'])\n"
     ]
    }
   ],
   "source": [
    "for i in have_0p_set[0:10]:\n",
    "    print i"
   ]
  },
  {
   "cell_type": "code",
   "execution_count": 34,
   "metadata": {
    "collapsed": false,
    "scrolled": true
   },
   "outputs": [],
   "source": [
    "rules = apriori.generateRules(L, suppData, minConf=0.5)\n",
    "rules_have_0p = []\n",
    "for i in rules:\n",
    "    if i[0].intersection(['0p']) or i[1].intersection(['0p']): rules_have_0p.append(i)"
   ]
  },
  {
   "cell_type": "code",
   "execution_count": 35,
   "metadata": {
    "collapsed": false
   },
   "outputs": [
    {
     "name": "stdout",
     "output_type": "stream",
     "text": [
      "318\n"
     ]
    }
   ],
   "source": [
    "print len(rules_have_0p)\n",
    "sort_rules = sorted(rules_have_0p, key=lambda x: x[2])"
   ]
  },
  {
   "cell_type": "code",
   "execution_count": 36,
   "metadata": {
    "collapsed": false
   },
   "outputs": [
    {
     "name": "stdout",
     "output_type": "stream",
     "text": [
      "(frozenset(['0p', '7c', '18o']), frozenset(['17w', '6f']), 1.0)\n",
      "(frozenset(['0p', '7c', '18o']), frozenset(['16p', '6f']), 1.0)\n",
      "(frozenset(['0p', '7c', '18o']), frozenset(['17w', '16p']), 1.0)\n",
      "(frozenset(['0p', '7c', '6f']), frozenset(['17w', '16p']), 1.0)\n",
      "(frozenset(['4f', '0p', '18o']), frozenset(['16p', '6f']), 1.0)\n",
      "(frozenset(['17w', '0p', '18o']), frozenset(['16p', '6f']), 1.0)\n",
      "(frozenset(['16p', '0p', '7c', '18o']), frozenset(['17w', '6f']), 1.0)\n",
      "(frozenset(['17w', '0p', '7c', '18o']), frozenset(['16p', '6f']), 1.0)\n",
      "(frozenset(['0p', '7c', '18o', '6f']), frozenset(['17w', '16p']), 1.0)\n",
      "(frozenset(['0p', '7c', '18o']), frozenset(['17w', '16p', '6f']), 1.0)\n"
     ]
    }
   ],
   "source": [
    "for i in sort_rules[-10:]:\n",
    "    print i"
   ]
  },
  {
   "cell_type": "code",
   "execution_count": 37,
   "metadata": {
    "collapsed": true
   },
   "outputs": [],
   "source": [
    "minSupport = 0.6\n",
    "L, suppData = apriori.apriori(mushDatSet, minSupport = minSupport)"
   ]
  },
  {
   "cell_type": "code",
   "execution_count": 38,
   "metadata": {
    "collapsed": false
   },
   "outputs": [
    {
     "name": "stdout",
     "output_type": "stream",
     "text": [
      "0\n"
     ]
    }
   ],
   "source": [
    "rules = apriori.generateRules(L, suppData, minConf=0.5)\n",
    "rules_have_0p = []\n",
    "for i in rules:\n",
    "    if i[0].intersection(['0p']) or i[1].intersection(['0p']): rules_have_0p.append(i)\n",
    "print len(rules_have_0p)\n",
    "sort_rules = sorted(rules_have_0p, key=lambda x: x[2])\n",
    "for i in sort_rules[-10:]:\n",
    "    print i"
   ]
  }
 ],
 "metadata": {
  "kernelspec": {
   "display_name": "Python 2",
   "language": "python",
   "name": "python2"
  }
 },
 "nbformat": 4,
 "nbformat_minor": 2
}
