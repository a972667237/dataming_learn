{
 "cells": [
  {
   "cell_type": "code",
   "execution_count": 1,
   "metadata": {
    "collapsed": false
   },
   "outputs": [],
   "source": [
    "import apriori"
   ]
  },
  {
   "cell_type": "code",
   "execution_count": 2,
   "metadata": {
    "collapsed": false
   },
   "outputs": [
    {
     "data": {
      "text/plain": [
       "[[1, 3, 4], [2, 3, 5], [1, 2, 3, 5], [2, 5]]"
      ]
     },
     "execution_count": 2,
     "metadata": {},
     "output_type": "execute_result"
    }
   ],
   "source": [
    "dataSet=apriori.loadDataSet()\n",
    "dataSet"
   ]
  },
  {
   "cell_type": "code",
   "execution_count": 3,
   "metadata": {
    "collapsed": false
   },
   "outputs": [
    {
     "data": {
      "text/plain": [
       "[frozenset({1}),\n",
       " frozenset({2}),\n",
       " frozenset({3}),\n",
       " frozenset({4}),\n",
       " frozenset({5})]"
      ]
     },
     "execution_count": 3,
     "metadata": {},
     "output_type": "execute_result"
    }
   ],
   "source": [
    "# 生成第一个候选项集C1\n",
    "C1=apriori.createC1(dataSet)\n",
    "C1"
   ]
  },
  {
   "cell_type": "code",
   "execution_count": 4,
   "metadata": {
    "collapsed": false,
    "scrolled": true
   },
   "outputs": [
    {
     "data": {
      "text/plain": [
       "[{1, 3, 4}, {2, 3, 5}, {1, 2, 3, 5}, {2, 5}]"
      ]
     },
     "execution_count": 4,
     "metadata": {},
     "output_type": "execute_result"
    }
   ],
   "source": [
    "D=map(set,dataSet)\n",
    "D"
   ]
  },
  {
   "cell_type": "code",
   "execution_count": 5,
   "metadata": {
    "collapsed": false
   },
   "outputs": [
    {
     "data": {
      "text/plain": [
       "[frozenset({1}), frozenset({3}), frozenset({2}), frozenset({5})]"
      ]
     },
     "execution_count": 5,
     "metadata": {},
     "output_type": "execute_result"
    }
   ],
   "source": [
    "# 频繁项集\n",
    "L1,suppData0=apriori.scanD(D, C1, 0.5)\n",
    "L1"
   ]
  },
  {
   "cell_type": "code",
   "execution_count": 6,
   "metadata": {
    "collapsed": false
   },
   "outputs": [
    {
     "data": {
      "text/plain": [
       "[[frozenset({1}), frozenset({3}), frozenset({2}), frozenset({5})],\n",
       " [frozenset({1, 3}), frozenset({2, 5}), frozenset({2, 3}), frozenset({3, 5})],\n",
       " [frozenset({2, 3, 5})],\n",
       " []]"
      ]
     },
     "execution_count": 6,
     "metadata": {},
     "output_type": "execute_result"
    }
   ],
   "source": [
    "# 支持度不小于0.5的频繁项集\n",
    "L,suppData=apriori.apriori(dataSet)\n",
    "L"
   ]
  },
  {
   "cell_type": "code",
   "execution_count": 7,
   "metadata": {
    "collapsed": false
   },
   "outputs": [
    {
     "data": {
      "text/plain": [
       "{frozenset({5}): 0.75,\n",
       " frozenset({3}): 0.75,\n",
       " frozenset({2, 3, 5}): 0.5,\n",
       " frozenset({1, 2}): 0.25,\n",
       " frozenset({1, 5}): 0.25,\n",
       " frozenset({3, 5}): 0.5,\n",
       " frozenset({4}): 0.25,\n",
       " frozenset({2, 3}): 0.5,\n",
       " frozenset({2, 5}): 0.75,\n",
       " frozenset({1}): 0.5,\n",
       " frozenset({1, 3}): 0.5,\n",
       " frozenset({2}): 0.75}"
      ]
     },
     "execution_count": 7,
     "metadata": {},
     "output_type": "execute_result"
    }
   ],
   "source": [
    "suppData"
   ]
  },
  {
   "cell_type": "code",
   "execution_count": 8,
   "metadata": {
    "collapsed": false
   },
   "outputs": [
    {
     "data": {
      "text/plain": [
       "[frozenset({1, 3}),\n",
       " frozenset({1, 2}),\n",
       " frozenset({1, 5}),\n",
       " frozenset({2, 3}),\n",
       " frozenset({3, 5}),\n",
       " frozenset({2, 5})]"
      ]
     },
     "execution_count": 8,
     "metadata": {},
     "output_type": "execute_result"
    }
   ],
   "source": [
    "apriori.aprioriGen(L[0], 2)"
   ]
  },
  {
   "cell_type": "code",
   "execution_count": 9,
   "metadata": {
    "collapsed": false
   },
   "outputs": [
    {
     "data": {
      "text/plain": [
       "[[frozenset({3}), frozenset({2}), frozenset({5})], [frozenset({2, 5})], []]"
      ]
     },
     "execution_count": 9,
     "metadata": {},
     "output_type": "execute_result"
    }
   ],
   "source": [
    "L,suppData=apriori.apriori(dataSet,minSupport=0.7)\n",
    "L"
   ]
  },
  {
   "cell_type": "code",
   "execution_count": 10,
   "metadata": {
    "collapsed": false
   },
   "outputs": [
    {
     "name": "stdout",
     "output_type": "stream",
     "text": [
      "frozenset([1]) --> frozenset([3]) conf: 1.0\n",
      "frozenset([5]) --> frozenset([2]) conf: 1.0\n",
      "frozenset([2]) --> frozenset([5]) conf: 1.0\n"
     ]
    },
    {
     "data": {
      "text/plain": [
       "[(frozenset({1}), frozenset({3}), 1.0),\n",
       " (frozenset({5}), frozenset({2}), 1.0),\n",
       " (frozenset({2}), frozenset({5}), 1.0)]"
      ]
     },
     "execution_count": 10,
     "metadata": {},
     "output_type": "execute_result"
    }
   ],
   "source": [
    "# 生成最小支持度不小于0.5的频繁项集\n",
    "L,suppData=apriori.apriori(dataSet,minSupport=0.5)\n",
    "# 生成置信度不小于0.7的关联规则\n",
    "rules=apriori.generateRules(L,suppData, minConf=0.7)\n",
    "rules"
   ]
  },
  {
   "cell_type": "code",
   "execution_count": 11,
   "metadata": {
    "collapsed": false
   },
   "outputs": [
    {
     "name": "stdout",
     "output_type": "stream",
     "text": [
      "frozenset([3]) --> frozenset([1]) conf: 0.666666666667\n",
      "frozenset([1]) --> frozenset([3]) conf: 1.0\n",
      "frozenset([5]) --> frozenset([2]) conf: 1.0\n",
      "frozenset([2]) --> frozenset([5]) conf: 1.0\n",
      "frozenset([3]) --> frozenset([2]) conf: 0.666666666667\n",
      "frozenset([2]) --> frozenset([3]) conf: 0.666666666667\n",
      "frozenset([5]) --> frozenset([3]) conf: 0.666666666667\n",
      "frozenset([3]) --> frozenset([5]) conf: 0.666666666667\n",
      "frozenset([5]) --> frozenset([2, 3]) conf: 0.666666666667\n",
      "frozenset([3]) --> frozenset([2, 5]) conf: 0.666666666667\n",
      "frozenset([2]) --> frozenset([3, 5]) conf: 0.666666666667\n"
     ]
    }
   ],
   "source": [
    "# 生成置信度不小于0.5的关联规则\n",
    "rules=apriori.generateRules(L,suppData, minConf=0.5)"
   ]
  },
  {
   "cell_type": "code",
   "execution_count": 12,
   "metadata": {
    "collapsed": false,
    "scrolled": true
   },
   "outputs": [
    {
     "name": "stdout",
     "output_type": "stream",
     "text": [
      "需要注册，留作自己去实践\n"
     ]
    }
   ],
   "source": [
    "from votesmart import votesmart\n",
    "print \"需要注册，留作自己去实践\"\n",
    "# VotesmartApiError: Authorization failed\n",
    "# bills = votesmart.votes.getBillsByStateRecent()\n",
    "# bill = votesmart.votes.getBill(11820)"
   ]
  },
  {
   "cell_type": "code",
   "execution_count": null,
   "metadata": {
    "collapsed": true
   },
   "outputs": [],
   "source": []
  },
  {
   "cell_type": "markdown",
   "metadata": {},
   "source": [
    "## 购物篮分析例子"
   ]
  },
  {
   "cell_type": "code",
   "execution_count": 13,
   "metadata": {
    "collapsed": false
   },
   "outputs": [
    {
     "name": "stdout",
     "output_type": "stream",
     "text": [
      "[['260', '4115', '6897', '9173', '9493'], ['32', '38', '39', '48', '1727'], ['48', '535', '587', '842', '1016', '1161', '1768', '2869', '3273', '4911']]\n"
     ]
    }
   ],
   "source": [
    "retailtSet = [line.strip().split() for line in open('retail.dat').readlines()]\n",
    "# 前三行数据\n",
    "print(retailtSet[:3])"
   ]
  },
  {
   "cell_type": "code",
   "execution_count": 14,
   "metadata": {
    "collapsed": false,
    "scrolled": true
   },
   "outputs": [],
   "source": [
    "# 支持度不小于0.01的频繁项集\n",
    "minSupport=0.01\n",
    "L,suppData=apriori.apriori(retailtSet, minSupport=minSupport)"
   ]
  },
  {
   "cell_type": "code",
   "execution_count": 15,
   "metadata": {
    "collapsed": false,
    "scrolled": true
   },
   "outputs": [
    {
     "name": "stdout",
     "output_type": "stream",
     "text": [
      "When set minSupport as 0.01\n",
      "There are\n",
      "111 itemset have 1 items\n",
      "103 itemset have 2 items\n",
      "30 itemset have 3 items\n",
      "3 itemset have 4 items\n"
     ]
    }
   ],
   "source": [
    "print 'When set minSupport as', minSupport\n",
    "print 'There are'\n",
    "for alist in L:\n",
    "    if len(alist) > 0:\n",
    "        print len(alist), 'itemset', 'have', len(alist[0]), 'items'"
   ]
  },
  {
   "cell_type": "code",
   "execution_count": 16,
   "metadata": {
    "collapsed": false
   },
   "outputs": [
    {
     "name": "stdout",
     "output_type": "stream",
     "text": [
      "frozenset(['32'])\n",
      "frozenset(['32', '48'])\n",
      "frozenset(['32', '38'])\n",
      "frozenset(['32', '170'])\n",
      "frozenset(['32', '39'])\n",
      "frozenset(['32', '38', '170'])\n",
      "frozenset(['32', '38', '48'])\n",
      "frozenset(['32', '39', '38'])\n",
      "frozenset(['32', '39', '48'])\n",
      "frozenset(['39', '38', '48', '32'])\n"
     ]
    }
   ],
   "source": [
    "for itemset_list in L:\n",
    "    for itemset in itemset_list:\n",
    "        if itemset.intersection({'32'}): print itemset"
   ]
  },
  {
   "cell_type": "code",
   "execution_count": 17,
   "metadata": {
    "collapsed": false
   },
   "outputs": [
    {
     "name": "stdout",
     "output_type": "stream",
     "text": [
      "frozenset(['1327']) --> frozenset(['39']) conf: 0.846153846154\n",
      "frozenset(['286']) --> frozenset(['38']) conf: 0.933333333333\n",
      "frozenset(['12935']) --> frozenset(['48']) conf: 0.833333333333\n",
      "frozenset(['18']) --> frozenset(['39']) conf: 0.833333333333\n",
      "frozenset(['533']) --> frozenset(['39']) conf: 0.823529411765\n",
      "frozenset(['270']) --> frozenset(['39']) conf: 0.8\n",
      "frozenset(['438']) --> frozenset(['39']) conf: 0.833333333333\n",
      "frozenset(['15052']) --> frozenset(['39']) conf: 0.857142857143\n",
      "frozenset(['56']) --> frozenset(['38']) conf: 1.0\n",
      "frozenset(['255']) --> frozenset(['39']) conf: 0.866666666667\n",
      "frozenset(['37']) --> frozenset(['38']) conf: 1.0\n",
      "frozenset(['79']) --> frozenset(['48']) conf: 0.8\n",
      "frozenset(['78']) --> frozenset(['48']) conf: 0.857142857143\n",
      "frozenset(['766']) --> frozenset(['48']) conf: 0.833333333333\n",
      "frozenset(['2998']) --> frozenset(['39']) conf: 0.909090909091\n",
      "frozenset(['740']) --> frozenset(['39']) conf: 0.857142857143\n",
      "frozenset(['36']) --> frozenset(['38']) conf: 0.933333333333\n",
      "frozenset(['110']) --> frozenset(['38']) conf: 0.975609756098\n",
      "frozenset(['3270']) --> frozenset(['48']) conf: 0.909090909091\n",
      "frozenset(['170']) --> frozenset(['38']) conf: 0.971428571429\n"
     ]
    }
   ],
   "source": [
    "# 生成置信度不小于0.8的关联规则\n",
    "rules=apriori.generateRules(L,suppData, minConf=0.8)"
   ]
  },
  {
   "cell_type": "markdown",
   "metadata": {},
   "source": [
    "## 毒蘑菇例子"
   ]
  },
  {
   "cell_type": "code",
   "execution_count": 18,
   "metadata": {
    "collapsed": false
   },
   "outputs": [
    {
     "name": "stdout",
     "output_type": "stream",
     "text": [
      "[['0p', '1x', '2s', '3n', '4t', '5p', '6f', '7c', '8n', '9k', '10e', '11e', '12s', '13s', '14w', '15w', '16p', '17w', '18o', '19p', '20k', '21s', '22u'], ['0e', '1x', '2s', '3y', '4t', '5a', '6f', '7c', '8b', '9k', '10e', '11c', '12s', '13s', '14w', '15w', '16p', '17w', '18o', '19p', '20n', '21n', '22g'], ['0e', '1b', '2s', '3w', '4t', '5l', '6f', '7c', '8b', '9n', '10e', '11c', '12s', '13s', '14w', '15w', '16p', '17w', '18o', '19p', '20n', '21n', '22m']]\n"
     ]
    }
   ],
   "source": [
    "\"\"\"\n",
    "毒蘑菇例子\n",
    "原始数据下载地址：http://archive.ics.uci.edu/ml/machine-learning-databases/mushroom/\n",
    "\"\"\"\n",
    "mushDatSet = [line.strip().split(',') for line in open('agaricus-lepiota_new.data').readlines()]\n",
    "# 前三行数据\n",
    "print(mushDatSet[:3])"
   ]
  },
  {
   "cell_type": "code",
   "execution_count": null,
   "metadata": {
    "collapsed": false
   },
   "outputs": [],
   "source": []
  }
 ],
 "metadata": {
  "kernelspec": {
   "display_name": "Python 2",
   "language": "python",
   "name": "python2"
  },
  "language_info": {
   "codemirror_mode": {
    "name": "ipython",
    "version": 2
   },
   "file_extension": ".py",
   "mimetype": "text/x-python",
   "name": "python",
   "nbconvert_exporter": "python",
   "pygments_lexer": "ipython2",
   "version": "2.7.13"
  }
 },
 "nbformat": 4,
 "nbformat_minor": 2
}
